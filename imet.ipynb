{
 "cells": [
  {
   "cell_type": "code",
   "execution_count": null,
   "metadata": {
    "collapsed": true
   },
   "outputs": [],
   "source": [
    "with open('./imetx/200m-ascent.log') as imet:\n",
    "    for line in reader(imet):\n",
    "        log_time = datetime.datetime.strptime(line[4]+'T'+line[5],\"%Y/%m/%dT%H:%M:%S\")\n",
    "        #print(log_time)\n",
    "        if log_time < start_time or log_time > end_time:\n",
    "            continue\n",
    "        else:\n",
    "            #print('workhere')\n",
    "            pressure,temperature,humidity=\\\n",
    "            (float(line[1].strip())/100,float(line[2].strip())/100,float(line[3].strip())/10)\n",
    "            #print(pressure,temperature,humidity)\n",
    "            df_imet_proto.append([log_time,pressure,temperature,humidity])\n",
    "            \n",
    "   \n",
    "    df_imet=pd.DataFrame(data=df_imet_proto,columns=['Time','Pressure','Temperature','Humidity'])\n",
    "    df_imet.set_index(['Time'],inplace=True)\n",
    "    \n",
    "        axes[0].set_title('Fig. 4: ImetX - Pressure, Temperature and Humidity')\n",
    "    fig.autofmt_xdate()\n",
    "    axes[0].plot(df_imet['Pressure'], color='#3869B0',lw=2)\n",
    "    axes[1].plot(df_imet['Temperature'], color='#DA7E30',lw=2)\n",
    "    axes[2].plot(df_imet['Humidity'], color='#3F9852',lw=2)\n",
    "    axes[0].set_xlabel('Time')\n",
    "    axes[0].set_ylabel('Pressure [hPa]', color='#3869B0')\n",
    "    axes[1].set_ylabel('Temperature [\\u00B0C]', color='#DA7E30')\n",
    "    axes[2].set_ylabel('Humidity [%]', color='#3F9852')\n",
    "    plt.show()\n",
    "    fig.savefig(\"imet.pdf\")"
   ]
  }
 ],
 "metadata": {
  "kernelspec": {
   "display_name": "Python [Root]",
   "language": "python",
   "name": "Python [Root]"
  },
  "language_info": {
   "codemirror_mode": {
    "name": "ipython",
    "version": 3
   },
   "file_extension": ".py",
   "mimetype": "text/x-python",
   "name": "python",
   "nbconvert_exporter": "python",
   "pygments_lexer": "ipython3",
   "version": "3.5.2"
  }
 },
 "nbformat": 4,
 "nbformat_minor": 0
}
